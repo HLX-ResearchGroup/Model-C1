{
 "cells": [
  {
   "cell_type": "code",
   "execution_count": 1,
   "metadata": {},
   "outputs": [
    {
     "name": "stderr",
     "output_type": "stream",
     "text": [
      "Using TensorFlow backend.\n"
     ]
    }
   ],
   "source": [
    "from tf_tools import *\n",
    "from SDP import *"
   ]
  },
  {
   "cell_type": "code",
   "execution_count": 36,
   "metadata": {},
   "outputs": [],
   "source": [
    "class ModelC0(MODEL):\n",
    "    def __init__(self,h,w,c,name = 'ModelC0'):\n",
    "        MODEL.__init__(self,name)\n",
    "        self.w = w\n",
    "        self.h = h\n",
    "        self.c = c\n",
    "        self.X = tf.placeholder(shape=[None,h,w,c],dtype=tf.float32)\n",
    "        self.Y = tf.placeholder(shape=[None,1],dtype=tf.float32)\n",
    "        \n",
    "        self.BNX = BN(self.X,name='BNX')\n",
    "        \n",
    "        self.S0 = CONV2D(self.BNX,[3,3,c,32],padding='SAME',name='S0')\n",
    "        self.A0 = tf.nn.relu(PLUSB(self.S0,name=self.name+'bS0'))\n",
    "        self.BNA0 = BN(self.A0,name='BNA0')\n",
    "        \n",
    "        self.S1 = CONV2D(self.BNA0,[3,3,32,32],padding='SAME',name='S1')\n",
    "        self.A1 = tf.nn.relu(PLUSB(self.S0,name=self.name+'bS1'))\n",
    "        \n",
    "        self.P0 = tf.contrib.layers.max_pool2d(self.A1,kernel_size=(2,2),data_format='NHWC')\n",
    "        \n",
    "        self.S2 = CONV2D(self.P0,[3,3,32,64],padding='SAME',name='S2')\n",
    "        self.A2 = tf.nn.relu(PLUSB(self.S2,name=self.name+'bS2'))\n",
    "        self.BNA2 = BN(self.A2,name='BNA2')\n",
    "        \n",
    "        self.S3 = CONV2D(self.BNA2,[3,3,64,64],padding='SAME',name='S3')\n",
    "        self.A3 = tf.nn.relu(PLUSB(self.S3,name='bS3'))\n",
    "        \n",
    "        self.P1 = tf.contrib.layers.max_pool2d(self.A3,kernel_size=(2,2),data_format='NHWC')\n",
    "        \n",
    "        self.S4 = CONV2D(self.P1,[3,3,64,128],padding='SAME',name='S4')\n",
    "        self.A4 = tf.nn.relu(PLUSB(self.S4,name='bS4'))\n",
    "        \n",
    "        self.S5 = CONV2D(self.A4,[3,3,128,128],padding='SAME',name='S5')\n",
    "        self.A5 = tf.nn.relu(PLUSB(self.S5,name='bS5'))\n",
    "        \n",
    "        self.P2 = tf.contrib.layers.max_pool2d(self.A5,kernel_size=(2,2),data_format='NHWC')\n",
    "        \n",
    "        self.S6 = CONV2D(self.P2,[3,3,128,256],padding='SAME',name='S6')\n",
    "        self.A6 = tf.nn.relu(PLUSB(self.S6,name='bS6'))\n",
    "        self.BNA6 = BN(self.A6,name='BNA6')\n",
    "        \n",
    "        self.S7 = CONV2D(self.BNA6,[3,3,256,256],padding='SAME',name='S7')\n",
    "        self.A7 = tf.nn.relu(PLUSB(self.S6,name='bS7'))\n",
    "        \n",
    "        self.P3 = tf.contrib.layers.max_pool2d(self.A7,kernel_size=(2,2),data_format='NHWC')\n",
    "        \n",
    "        self.S8 = CONV2D(self.P3,[3,3,256,512],padding='SAME',name='S8')\n",
    "        self.A8 = tf.nn.relu(PLUSB(self.S8,name='bS8'))\n",
    "        \n",
    "        self.P4 = tf.contrib.layers.max_pool2d(self.A8,kernel_size=(2,2),data_format='NHWC')\n",
    "        \n",
    "        self.F = tf.contrib.layers.flatten(self.P4)\n",
    "        self.SF = FC(self.F,128,name='SF')\n",
    "        self.AF = tf.nn.relu(PLUSB(self.SF,name='bSF'))\n",
    "        \n",
    "        self.OUP = FC(self.AF,1,name='OUP')\n",
    "        \n",
    "        self.cost = tf.reduce_mean(tf.squared_difference(self.OUP,self.Y))\n",
    "        self.opt = tf.train.AdadeltaOptimizer(30).minimize(self.cost)\n",
    "        self.init = tf.global_variables_initializer()"
   ]
  },
  {
   "cell_type": "code",
   "execution_count": 37,
   "metadata": {},
   "outputs": [],
   "source": [
    "tf.reset_default_graph()\n",
    "m = ModelC0(60,40,9,'sss')"
   ]
  },
  {
   "cell_type": "code",
   "execution_count": 38,
   "metadata": {},
   "outputs": [
    {
     "data": {
      "text/plain": [
       "<tf.Tensor 'MatMul_1:0' shape=(?, 1) dtype=float32>"
      ]
     },
     "execution_count": 38,
     "metadata": {},
     "output_type": "execute_result"
    }
   ],
   "source": [
    "m.OUP"
   ]
  }
 ],
 "metadata": {
  "kernelspec": {
   "display_name": "Python 3",
   "language": "python",
   "name": "python3"
  },
  "language_info": {
   "codemirror_mode": {
    "name": "ipython",
    "version": 3
   },
   "file_extension": ".py",
   "mimetype": "text/x-python",
   "name": "python",
   "nbconvert_exporter": "python",
   "pygments_lexer": "ipython3",
   "version": "3.6.4"
  }
 },
 "nbformat": 4,
 "nbformat_minor": 2
}
